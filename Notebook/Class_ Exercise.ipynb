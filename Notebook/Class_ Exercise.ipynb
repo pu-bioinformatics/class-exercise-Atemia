{
 "cells": [
  {
   "cell_type": "markdown",
   "metadata": {},
   "source": [
    "## Class Exercise "
   ]
  },
  {
   "cell_type": "markdown",
   "metadata": {},
   "source": [
    "### 1. Write a function to convert celcius to fahrenheit"
   ]
  },
  {
   "cell_type": "code",
   "execution_count": 16,
   "metadata": {},
   "outputs": [],
   "source": [
    "def temp_converter(C):\n",
    "     print( (C * (9/5))+32 , \"°F\")"
   ]
  },
  {
   "cell_type": "code",
   "execution_count": 17,
   "metadata": {},
   "outputs": [
    {
     "name": "stdout",
     "output_type": "stream",
     "text": [
      "212.0 °F\n"
     ]
    }
   ],
   "source": [
    "temp_converter(100)"
   ]
  },
  {
   "cell_type": "markdown",
   "metadata": {},
   "source": [
    "### 2. Write a function that given weight and height returns the BMI of the person."
   ]
  },
  {
   "cell_type": "code",
   "execution_count": 26,
   "metadata": {},
   "outputs": [],
   "source": [
    "def BMI_coverter(w,h):\n",
    "    \"\"\"Given weight in kgs and height in meters\"\"\"\n",
    "    print(w/(h)**2)"
   ]
  },
  {
   "cell_type": "code",
   "execution_count": 27,
   "metadata": {},
   "outputs": [
    {
     "name": "stdout",
     "output_type": "stream",
     "text": [
      "19.607156612163443\n"
     ]
    }
   ],
   "source": [
    "BMI_coverter(56,1.69)"
   ]
  },
  {
   "cell_type": "markdown",
   "metadata": {},
   "source": [
    "### 3. Create a program that asks the user to enter their name and their age.  Print out a message addressed to them that tells them the year that they will turn 100 years old."
   ]
  },
  {
   "cell_type": "code",
   "execution_count": 11,
   "metadata": {},
   "outputs": [],
   "source": [
    "from datetime import date\n",
    "?date"
   ]
  },
  {
   "cell_type": "code",
   "execution_count": 20,
   "metadata": {
    "scrolled": true
   },
   "outputs": [
    {
     "name": "stdout",
     "output_type": "stream",
     "text": [
      "Please enter your name Joe\n",
      "Please enter your age 39\n",
      "Joe, by 2080 you will be hundred!!😃\n"
     ]
    }
   ],
   "source": [
    "choice = input(\"Please enter your name \")\n",
    "choice2 = input(\"Please enter your age \")\n",
    "year = (100 - int(choice2)) + 2019\n",
    "print(\"%s, by %d you will be hundred!!😃\" % (choice, year))"
   ]
  },
  {
   "cell_type": "code",
   "execution_count": 15,
   "metadata": {},
   "outputs": [
    {
     "name": "stdout",
     "output_type": "stream",
     "text": [
      "                      WELCOME TO MY PROGRAM\n",
      "To use my program:\n",
      "please enter your name Joseph\n",
      "Hello Joseph please enter your age 23\n",
      "Keep calm Joseph in 2096 you will be 100!!\n"
     ]
    }
   ],
   "source": [
    "from datetime import date\n",
    "\n",
    "print(\"%21s WELCOME TO MY PROGRAM\" %(\"\"))\n",
    "print(\"To use my program:\")\n",
    "name = str(input(\"please enter your name \"))\n",
    "age = int(input(\"Hello %s please enter your age \" %name))\n",
    "today = date.today()\n",
    "print(\"Keep calm %s in %i you will be 100!!\" % (name, (100-age)+today.year))"
   ]
  },
  {
   "cell_type": "code",
   "execution_count": null,
   "metadata": {},
   "outputs": [],
   "source": []
  },
  {
   "cell_type": "markdown",
   "metadata": {},
   "source": [
    "### 4. Write a function that returns the maximum of two numbers."
   ]
  },
  {
   "cell_type": "code",
   "execution_count": 19,
   "metadata": {},
   "outputs": [
    {
     "data": {
      "text/plain": [
       "9"
      ]
     },
     "execution_count": 19,
     "metadata": {},
     "output_type": "execute_result"
    }
   ],
   "source": [
    "def Max_2(x,y):\n",
    "    return max(x,y)\n",
    "Max_2(5,9)"
   ]
  },
  {
   "cell_type": "markdown",
   "metadata": {},
   "source": [
    "\n",
    "\n",
    "## 5. Write a function called fizz_buzz that takes a number.\n",
    "        - If the number is divisible by 3, it should return “Fizz”.\n",
    "        - If it is divisible by 5, it should return “Buzz”.\n",
    "        - If it is divisible by both 3 and 5, it should return “FizzBuzz”.\n",
    "        Otherwise, it should return the same number."
   ]
  },
  {
   "cell_type": "code",
   "execution_count": 18,
   "metadata": {},
   "outputs": [
    {
     "data": {
      "text/plain": [
       "'FizzBuzz'"
      ]
     },
     "execution_count": 18,
     "metadata": {},
     "output_type": "execute_result"
    }
   ],
   "source": [
    "def fizz_buzz(x):\n",
    "    if x%3 == 0: \n",
    "        if x%5 ==0:\n",
    "            return \"FizzBuzz\"\n",
    "    if x%3 == 0:\n",
    "        return \"Fizz\"\n",
    "    if x%5 == 0:\n",
    "        return \"Buzz\"\n",
    "    return x\n",
    "\n",
    "fizz_buzz(45)"
   ]
  },
  {
   "cell_type": "markdown",
   "metadata": {},
   "source": [
    "### 6. Write a function for checking the speed of drivers. This function should have one parameter: speed.\n",
    "        - If speed is less than 70, it should print “Ok”.\n",
    "        - Otherwise, for every 5km above the speed limit (70), it should give the driver one demerit point and print the total number of demerit points. For example, if the speed is 80, it should print: “Points: 2”.\n",
    "        - If the driver gets more than 12 points, the function should print: “License suspended"
   ]
  },
  {
   "cell_type": "code",
   "execution_count": 403,
   "metadata": {},
   "outputs": [
    {
     "name": "stdout",
     "output_type": "stream",
     "text": [
      "Your demerit point is 15\n",
      "License suspended\n"
     ]
    }
   ],
   "source": [
    "def speed_test(speed):\n",
    "    if speed < 70:\n",
    "        print(\"OK\")\n",
    "    else:\n",
    "        demerit_point = (speed - 70) * (1/5)\n",
    "        print('Your demerit point is %i' % demerit_point)\n",
    "        if demerit_point >= 12:\n",
    "            print(\"License suspended\")\n",
    "        \n",
    "speed_test(145)"
   ]
  },
  {
   "cell_type": "code",
   "execution_count": 404,
   "metadata": {},
   "outputs": [
    {
     "name": "stdout",
     "output_type": "stream",
     "text": [
      "OK\n"
     ]
    }
   ],
   "source": [
    "speed_test(60)"
   ]
  },
  {
   "cell_type": "markdown",
   "metadata": {},
   "source": [
    "### 7. Write a function called showNumbers that takes a parameter called limit. It should print all the numbers between 0 and limit with a label to identify the even and odd numbers. For example, if the limit is 3, it should print:\n",
    "        - 0 EVEN\n",
    "        - 1 ODD\n",
    "        - 2 EVEN\n",
    "        - 3 ODD"
   ]
  },
  {
   "cell_type": "code",
   "execution_count": 199,
   "metadata": {},
   "outputs": [],
   "source": [
    "def shownumbers(limit):\n",
    "    for i in range(limit+1):\n",
    "        if i == limit+1:\n",
    "            break\n",
    "        if i%2:\n",
    "            print(\"- %d ODD\" % (i))\n",
    "        else:\n",
    "            print(\"- %d EVEN\" %(i))\n",
    "    "
   ]
  },
  {
   "cell_type": "code",
   "execution_count": 200,
   "metadata": {},
   "outputs": [
    {
     "name": "stdout",
     "output_type": "stream",
     "text": [
      "- 0 EVEN\n",
      "- 1 ODD\n",
      "- 2 EVEN\n",
      "- 3 ODD\n"
     ]
    }
   ],
   "source": [
    "shownumbers(3)"
   ]
  },
  {
   "cell_type": "markdown",
   "metadata": {},
   "source": [
    "### 8. Write a function that returns the sum of multiples of 3 and 5 between 0 and limit (parameter). For example, if limit is 20, it should return the sum of 3, 5, 6, 9, 10, 12, 15, 18, 20."
   ]
  },
  {
   "cell_type": "code",
   "execution_count": 15,
   "metadata": {},
   "outputs": [
    {
     "data": {
      "text/plain": [
       "98"
      ]
     },
     "execution_count": 15,
     "metadata": {},
     "output_type": "execute_result"
    }
   ],
   "source": [
    "def sum_multiples3_5(x):\n",
    "    x = x+1\n",
    "    totals = 0\n",
    "    for i in range(x):\n",
    "        if i%3 == 0 or i%5 == 0:\n",
    "            totals += i\n",
    "    return totals     \n",
    "\n",
    "sum_multiples3_5(20)"
   ]
  },
  {
   "cell_type": "markdown",
   "metadata": {},
   "source": [
    "### 9. Write a function called show_stars(rows). If rows is 5, it should print the following:\n",
    "``` \n",
    "        *\n",
    "        **\n",
    "        ***\n",
    "        ****\n",
    "        *****\n",
    "```"
   ]
  },
  {
   "cell_type": "code",
   "execution_count": 383,
   "metadata": {},
   "outputs": [
    {
     "name": "stdout",
     "output_type": "stream",
     "text": [
      "*\n",
      "**\n",
      "***\n",
      "****\n",
      "*****\n"
     ]
    }
   ],
   "source": [
    "def show_stars(rows):\n",
    "    star_list=\"\"\n",
    "    for i in range(rows):\n",
    "        star_list += '*'\n",
    "        print(star_list)\n",
    "\n",
    "show_stars(5)"
   ]
  },
  {
   "cell_type": "markdown",
   "metadata": {},
   "source": [
    "### 10. Write a function that prints all the prime numbers between 0 and limit where limit is a parameter."
   ]
  },
  {
   "cell_type": "code",
   "execution_count": 14,
   "metadata": {},
   "outputs": [
    {
     "name": "stdout",
     "output_type": "stream",
     "text": [
      "[2, 3, 5, 7, 11, 13, 17, 19, 23, 29, 31, 37, 41, 43, 47]\n"
     ]
    }
   ],
   "source": [
    "def prime_no(limit):\n",
    "    list_prime = [2,3,5,7]\n",
    "    for i in range(limit):\n",
    "        if i%2 !=0 and i%3 !=0 and i%5 !=0 and i%7 !=0 and i>1:\n",
    "            list_prime.append(i)\n",
    "    print(list_prime)\n",
    "\n",
    "prime_no(50)"
   ]
  }
 ],
 "metadata": {
  "kernelspec": {
   "display_name": "Python 3",
   "language": "python",
   "name": "python3"
  },
  "language_info": {
   "codemirror_mode": {
    "name": "ipython",
    "version": 3
   },
   "file_extension": ".py",
   "mimetype": "text/x-python",
   "name": "python",
   "nbconvert_exporter": "python",
   "pygments_lexer": "ipython3",
   "version": "3.7.1"
  }
 },
 "nbformat": 4,
 "nbformat_minor": 2
}
